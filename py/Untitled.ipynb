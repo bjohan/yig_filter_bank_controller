{
 "cells": [
  {
   "cell_type": "code",
   "execution_count": 1,
   "metadata": {},
   "outputs": [
    {
     "name": "stdout",
     "output_type": "stream",
     "text": [
      "Waiting for init... Done\n"
     ]
    }
   ],
   "source": [
    "import sys\n",
    "sys.path.append(\"gpib_instrument_control\")\n",
    "import hp_3478a\n",
    "import hp_8700_series_vna\n",
    "import numpy as np\n",
    "import time\n",
    "import yig_controller_test\n",
    "import matplotlib.pyplot as plt\n",
    "plt.rcParams['figure.figsize'] = [15, 10]\n",
    "\n",
    "\n",
    "yigControllerPort='/dev/ttyUSB0'\n",
    "vna = hp_8700_series_vna.Hp8753A()\n",
    "curMeter = hp_3478a.Hp3478A()\n",
    "yc = yig_controller_test.YigController(yigControllerPort)"
   ]
  },
  {
   "cell_type": "code",
   "execution_count": null,
   "metadata": {},
   "outputs": [],
   "source": [
    "wr = np.arange(-32768, 32767, 128)\n",
    "yigChs = range(6)\n",
    "\n",
    "channels=[]\n",
    "for c in yigChs:\n",
    "    yc.yigA.set(c, wr[0])\n",
    "    time.sleep(5);\n",
    "    current=[]\n",
    "    for w in wr:\n",
    "        yc.yigA.set(c, w);\n",
    "        time.sleep(0.5)\n",
    "        current.append(curMeter.readValue())\n",
    "    channels.append(current)\n",
    "        \n"
   ]
  }
 ],
 "metadata": {
  "kernelspec": {
   "display_name": "Python 3",
   "language": "python",
   "name": "python3"
  },
  "language_info": {
   "codemirror_mode": {
    "name": "ipython",
    "version": 3
   },
   "file_extension": ".py",
   "mimetype": "text/x-python",
   "name": "python",
   "nbconvert_exporter": "python",
   "pygments_lexer": "ipython3",
   "version": "3.8.10"
  }
 },
 "nbformat": 4,
 "nbformat_minor": 4
}
