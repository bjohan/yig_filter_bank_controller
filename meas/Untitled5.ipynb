{
 "cells": [
  {
   "cell_type": "code",
   "execution_count": 1,
   "id": "ab927dfa-ef1a-43a0-a9d5-8937df5ddf19",
   "metadata": {},
   "outputs": [
    {
     "ename": "TypeError",
     "evalue": "argument of type 'NoneType' is not iterable",
     "output_type": "error",
     "traceback": [
      "\u001b[0;31m---------------------------------------------------------------------------\u001b[0m",
      "\u001b[0;31mTypeError\u001b[0m                                 Traceback (most recent call last)",
      "\u001b[0;32m<ipython-input-1-e56e758718b8>\u001b[0m in \u001b[0;36m<module>\u001b[0;34m\u001b[0m\n\u001b[1;32m     16\u001b[0m \u001b[0;31m#Instruments and devices\u001b[0m\u001b[0;34m\u001b[0m\u001b[0;34m\u001b[0m\u001b[0;34m\u001b[0m\u001b[0m\n\u001b[1;32m     17\u001b[0m \u001b[0myigControllerPort\u001b[0m\u001b[0;34m=\u001b[0m\u001b[0;34m'/dev/ttyUSB0'\u001b[0m\u001b[0;34m\u001b[0m\u001b[0;34m\u001b[0m\u001b[0m\n\u001b[0;32m---> 18\u001b[0;31m \u001b[0mvna\u001b[0m \u001b[0;34m=\u001b[0m \u001b[0mhp_8700_series_vna\u001b[0m\u001b[0;34m.\u001b[0m\u001b[0mHp8753A\u001b[0m\u001b[0;34m(\u001b[0m\u001b[0;34m)\u001b[0m\u001b[0;34m\u001b[0m\u001b[0;34m\u001b[0m\u001b[0m\n\u001b[0m\u001b[1;32m     19\u001b[0m \u001b[0mcurMeter\u001b[0m \u001b[0;34m=\u001b[0m \u001b[0mhp_3478a\u001b[0m\u001b[0;34m.\u001b[0m\u001b[0mHp3478A\u001b[0m\u001b[0;34m(\u001b[0m\u001b[0;34m)\u001b[0m\u001b[0;34m\u001b[0m\u001b[0;34m\u001b[0m\u001b[0m\n\u001b[1;32m     20\u001b[0m \u001b[0myc\u001b[0m \u001b[0;34m=\u001b[0m \u001b[0myig_controller_test\u001b[0m\u001b[0;34m.\u001b[0m\u001b[0mYigController\u001b[0m\u001b[0;34m(\u001b[0m\u001b[0myigControllerPort\u001b[0m\u001b[0;34m)\u001b[0m\u001b[0;34m\u001b[0m\u001b[0;34m\u001b[0m\u001b[0m\n",
      "\u001b[0;32m~/git_wd/yig_filter_bank_controller/py/gpib_instrument_control/hp_8700_series_vna.py\u001b[0m in \u001b[0;36m__init__\u001b[0;34m(self, addr)\u001b[0m\n\u001b[1;32m     19\u001b[0m         \u001b[0mrefStr\u001b[0m\u001b[0;34m=\u001b[0m\u001b[0;34mb'HEWLETT PACKARD,8703A,0,1.00\\n'\u001b[0m\u001b[0;34m\u001b[0m\u001b[0;34m\u001b[0m\u001b[0m\n\u001b[1;32m     20\u001b[0m         \u001b[0;32mif\u001b[0m \u001b[0midStr\u001b[0m\u001b[0;34m!=\u001b[0m\u001b[0mrefStr\u001b[0m\u001b[0;34m:\u001b[0m\u001b[0;34m\u001b[0m\u001b[0;34m\u001b[0m\u001b[0m\n\u001b[0;32m---> 21\u001b[0;31m             \u001b[0;32mif\u001b[0m \u001b[0;34m\"8753\"\u001b[0m \u001b[0;32mnot\u001b[0m \u001b[0;32min\u001b[0m \u001b[0midStr\u001b[0m\u001b[0;34m:\u001b[0m\u001b[0;34m\u001b[0m\u001b[0;34m\u001b[0m\u001b[0m\n\u001b[0m\u001b[1;32m     22\u001b[0m                 \u001b[0;32mraise\u001b[0m \u001b[0mException\u001b[0m\u001b[0;34m(\u001b[0m\u001b[0;34m\"Instrument att address {addr} does not seem to be a 8753\"\u001b[0m\u001b[0;34m)\u001b[0m\u001b[0;34m\u001b[0m\u001b[0;34m\u001b[0m\u001b[0m\n\u001b[1;32m     23\u001b[0m             \u001b[0;32melse\u001b[0m\u001b[0;34m:\u001b[0m\u001b[0;34m\u001b[0m\u001b[0;34m\u001b[0m\u001b[0m\n",
      "\u001b[0;31mTypeError\u001b[0m: argument of type 'NoneType' is not iterable"
     ]
    }
   ],
   "source": [
    "import sys\n",
    "sys.path.append(\"gpib_instrument_control\")\n",
    "import hp_3478a\n",
    "import hp_8700_series_vna\n",
    "import numpy as np\n",
    "import time\n",
    "import yig_controller_test\n",
    "import matplotlib.pyplot as plt\n",
    "import scipy.io as sio\n",
    "import skrf.network\n",
    "import yig_controller_test\n",
    "\n",
    "\n",
    "plt.rcParams['figure.figsize'] = [15, 10]\n",
    "\n",
    "#Instruments and devices\n",
    "yigControllerPort='/dev/ttyUSB0'\n",
    "vna = hp_8700_series_vna.Hp8753A()\n",
    "curMeter = hp_3478a.Hp3478A()\n",
    "yc = yig_controller_test.YigController(yigControllerPort)"
   ]
  },
  {
   "cell_type": "code",
   "execution_count": null,
   "id": "2cdf114f-398b-4187-94c7-4eef27b7b9dc",
   "metadata": {},
   "outputs": [],
   "source": [
    "for i in range(3):\n",
    "    yc.yigA.set(5, 0)\n",
    "    time.sleep(5)\n",
    "    yc.yigA.set(6, 0)\n",
    "    yc.yigB.set(5, 0)\n",
    "    time.sleep(5)\n",
    "    yc.yigB.set(7,0)\n",
    "    "
   ]
  },
  {
   "cell_type": "code",
   "execution_count": null,
   "id": "aff12aa7-5dca-42d9-ab05-17c93ef2470d",
   "metadata": {},
   "outputs": [],
   "source": [
    "yc.yigB.set(7,0)\n",
    "yc.yigA.set(5, 0)"
   ]
  },
  {
   "cell_type": "code",
   "execution_count": null,
   "id": "367364fb-a771-47a5-9213-761ce80ee9d4",
   "metadata": {},
   "outputs": [],
   "source": [
    "yc.yigA.set(7, 0)\n",
    "yc.yigB.set(0, 0)"
   ]
  },
  {
   "cell_type": "code",
   "execution_count": null,
   "id": "dc37fca0-ff7c-46b4-8d10-1119def7964d",
   "metadata": {},
   "outputs": [],
   "source": []
  }
 ],
 "metadata": {
  "kernelspec": {
   "display_name": "Python 3",
   "language": "python",
   "name": "python3"
  },
  "language_info": {
   "codemirror_mode": {
    "name": "ipython",
    "version": 3
   },
   "file_extension": ".py",
   "mimetype": "text/x-python",
   "name": "python",
   "nbconvert_exporter": "python",
   "pygments_lexer": "ipython3",
   "version": "3.8.10"
  }
 },
 "nbformat": 4,
 "nbformat_minor": 5
}
